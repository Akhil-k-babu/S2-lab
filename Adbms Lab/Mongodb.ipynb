{
 "cells": [
  {
   "cell_type": "code",
   "execution_count": 1,
   "metadata": {},
   "outputs": [],
   "source": [
    "import pymongo\n",
    "conn=pymongo.MongoClient(\"mongodb://localhost:27017/\")\n",
    "db=conn[\"mydatabase\"]\n",
    "col=db[\"student\"]"
   ]
  },
  {
   "cell_type": "code",
   "execution_count": 2,
   "metadata": {},
   "outputs": [
    {
     "data": {
      "text/plain": [
       "<pymongo.cursor.Cursor at 0x27ef5ae74a0>"
      ]
     },
     "execution_count": 2,
     "metadata": {},
     "output_type": "execute_result"
    }
   ],
   "source": [
    "col.find()"
   ]
  },
  {
   "cell_type": "code",
   "execution_count": 28,
   "metadata": {},
   "outputs": [
    {
     "name": "stdout",
     "output_type": "stream",
     "text": [
      "{'Name': 'abc'}\n",
      "{'Name': 'abc'}\n"
     ]
    }
   ],
   "source": [
    "fd=col.find({\"Name\":\"abc\"},{\"Name\":1,\"_id\":0})\n",
    "for i in fd:\n",
    "    print(i)"
   ]
  },
  {
   "cell_type": "code",
   "execution_count": 56,
   "metadata": {},
   "outputs": [
    {
     "name": "stdout",
     "output_type": "stream",
     "text": [
      "{'Name': 'ghi', 'age': 20}\n",
      "{'Name': 'abc', 'age': 18}\n",
      "{'Name': 'abc', 'age': 18}\n",
      "{'Name': 'def', 'age': 18}\n"
     ]
    }
   ],
   "source": [
    "fd=col.find({},{\"Name\":1,\"_id\":0,\"age\":1}).sort(\"age\",-1)\n",
    "for i in fd:\n",
    "    print(i)"
   ]
  },
  {
   "cell_type": "code",
   "execution_count": null,
   "metadata": {},
   "outputs": [],
   "source": []
  }
 ],
 "metadata": {
  "kernelspec": {
   "display_name": "Python 3",
   "language": "python",
   "name": "python3"
  },
  "language_info": {
   "codemirror_mode": {
    "name": "ipython",
    "version": 3
   },
   "file_extension": ".py",
   "mimetype": "text/x-python",
   "name": "python",
   "nbconvert_exporter": "python",
   "pygments_lexer": "ipython3",
   "version": "3.12.0"
  }
 },
 "nbformat": 4,
 "nbformat_minor": 2
}
