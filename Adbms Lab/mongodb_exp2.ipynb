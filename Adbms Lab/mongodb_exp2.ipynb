{
 "cells": [
  {
   "cell_type": "code",
   "execution_count": 1,
   "metadata": {},
   "outputs": [],
   "source": [
    "import pymongo\n",
    "conn=pymongo.MongoClient(\"mongodb://localhost:27017/\")\n",
    "db=conn[\"mydatabase\"]\n",
    "col=db[\"students\"]"
   ]
  },
  {
   "cell_type": "code",
   "execution_count": 37,
   "metadata": {},
   "outputs": [
    {
     "data": {
      "text/plain": [
       "<pymongo.results.InsertManyResult at 0x20adda4a050>"
      ]
     },
     "execution_count": 37,
     "metadata": {},
     "output_type": "execute_result"
    }
   ],
   "source": [
    "value=[{\"Name\":\"Akhil\",\"age\":23,\"Place\":\"Pta\"},\n",
    "       {\"Name\":\"Jefin\",\"age\":29,\"Place\":\"Pta\"},\n",
    "       {\"Name\":\"Muhammed\",\"age\":21,\"Place\":\"Ekm\"}]\n",
    "col.insert_many(value)"
   ]
  },
  {
   "cell_type": "code",
   "execution_count": 38,
   "metadata": {},
   "outputs": [
    {
     "name": "stdout",
     "output_type": "stream",
     "text": [
      "{'Name': 'Akhil', 'age': 23, 'Place': 'Pta'}\n",
      "{'Name': 'Jefin', 'age': 29, 'Place': 'Pta'}\n",
      "{'Name': 'Muhammed', 'age': 21, 'Place': 'Ekm'}\n"
     ]
    }
   ],
   "source": [
    "fd=col.find({\"$or\":[{\"age\":21},{\"Place\":\"Pta\"}]},{\"_id\":0})\n",
    "for i in fd:\n",
    "    print(i)"
   ]
  },
  {
   "cell_type": "code",
   "execution_count": 29,
   "metadata": {},
   "outputs": [
    {
     "data": {
      "text/plain": [
       "<pymongo.results.UpdateResult at 0x20add99b9d0>"
      ]
     },
     "execution_count": 29,
     "metadata": {},
     "output_type": "execute_result"
    }
   ],
   "source": [
    "con={\"Place\":\"Pta\"}\n",
    "newvalue={\"$set\":{\"age\":\"Unable to disclose\"}}\n",
    "col.update_one(con,newvalue)"
   ]
  },
  {
   "cell_type": "code",
   "execution_count": 31,
   "metadata": {},
   "outputs": [
    {
     "data": {
      "text/plain": [
       "<pymongo.results.DeleteResult at 0x20adda4b820>"
      ]
     },
     "execution_count": 31,
     "metadata": {},
     "output_type": "execute_result"
    }
   ],
   "source": [
    "col.delete_one({\"age\":21})"
   ]
  },
  {
   "cell_type": "code",
   "execution_count": 35,
   "metadata": {},
   "outputs": [
    {
     "data": {
      "text/plain": [
       "<pymongo.results.DeleteResult at 0x20adda4b100>"
      ]
     },
     "execution_count": 35,
     "metadata": {},
     "output_type": "execute_result"
    }
   ],
   "source": [
    "col.delete_many({})"
   ]
  },
  {
   "cell_type": "code",
   "execution_count": null,
   "metadata": {},
   "outputs": [
    {
     "name": "stdout",
     "output_type": "stream",
     "text": [
      "{'Name': 'Akhil', 'age': 23, 'Place': 'Pta'}\n",
      "{'Name': 'Jefin', 'age': 29, 'Place': 'Pta'}\n",
      "{'Name': 'Muhammed', 'age': 21, 'Place': 'Ekm'}\n"
     ]
    }
   ],
   "source": [
    "#where age greater than 20\n",
    "fd=col.find({\"age\":{\"$gt\":20}},{\"_id\":0})\n",
    "for i in fd:\n",
    "    print(i)"
   ]
  },
  {
   "cell_type": "code",
   "execution_count": null,
   "metadata": {},
   "outputs": [
    {
     "name": "stdout",
     "output_type": "stream",
     "text": [
      "{'Name': 'Muhammed', 'age': 21, 'Place': 'Ekm'}\n"
     ]
    }
   ],
   "source": [
    "#where name starts with M - [starting - ^m, ending - m$]\n",
    "fd=col.find({\"Name\":{\"$regex\":\"^M\"}},{\"_id\":0})\n",
    "for i in fd:\n",
    "    print(i)"
   ]
  },
  {
   "cell_type": "code",
   "execution_count": null,
   "metadata": {},
   "outputs": [],
   "source": []
  }
 ],
 "metadata": {
  "kernelspec": {
   "display_name": "Python 3",
   "language": "python",
   "name": "python3"
  },
  "language_info": {
   "codemirror_mode": {
    "name": "ipython",
    "version": 3
   },
   "file_extension": ".py",
   "mimetype": "text/x-python",
   "name": "python",
   "nbconvert_exporter": "python",
   "pygments_lexer": "ipython3",
   "version": "3.12.0"
  }
 },
 "nbformat": 4,
 "nbformat_minor": 2
}
